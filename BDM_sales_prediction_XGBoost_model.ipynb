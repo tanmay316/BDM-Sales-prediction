{
  "nbformat": 4,
  "nbformat_minor": 0,
  "metadata": {
    "colab": {
      "provenance": []
    },
    "kernelspec": {
      "name": "python3",
      "display_name": "Python 3"
    },
    "language_info": {
      "name": "python"
    }
  },
  "cells": [
    {
      "cell_type": "markdown",
      "metadata": {
        "id": "LVXbklWLb_Qm"
      },
      "source": [
        "Importing the Dependencies"
      ]
    },
    {
      "cell_type": "code",
      "metadata": {
        "id": "fwjseYJUbhIu"
      },
      "source": [
        "import numpy as np\n",
        "import pandas as pd\n",
        "import matplotlib.pyplot as plt\n",
        "import seaborn as sns\n",
        "from sklearn.preprocessing import LabelEncoder\n",
        "from sklearn.model_selection import train_test_split\n",
        "from xgboost import XGBRegressor\n",
        "from sklearn import metrics"
      ],
      "execution_count": 2,
      "outputs": []
    },
    {
      "cell_type": "markdown",
      "metadata": {
        "id": "T6Qv_wKjrP1A"
      },
      "source": [
        "Data Collection and Processing"
      ]
    },
    {
      "cell_type": "code",
      "metadata": {
        "id": "AFU14Fvbcs8A"
      },
      "source": [
        "# loading the data from csv file to Pandas DataFrame\n",
        "data = pd.read_csv('/content/Sales ML 1.csv')\n"
      ],
      "execution_count": 3,
      "outputs": []
    },
    {
      "cell_type": "code",
      "metadata": {
        "colab": {
          "base_uri": "https://localhost:8080/",
          "height": 530
        },
        "id": "22sDgYb0da9x",
        "outputId": "47a84abd-a298-4bec-cda0-7f0ef411e483"
      },
      "source": [
        "# first 5 rows of the dataframe\n",
        "data.head()"
      ],
      "execution_count": 4,
      "outputs": [
        {
          "output_type": "execute_result",
          "data": {
            "text/plain": [
              "   Category                Sub category    PRODUCT BRANDS  Order Date  \\\n",
              "0  NON FOOD       NATURAL PERSONAL CARE          EYE DROP  04-04-2022   \n",
              "1      FOOD  JUICES & NATURAL BEVERAGES          MEDICINE  04-04-2022   \n",
              "2      FOOD  JUICES & NATURAL BEVERAGES   SHARBAT THANDAI  04-04-2022   \n",
              "3      FOOD         PHYSICAL OIL & GHEE              GHEE  04-04-2022   \n",
              "4      FOOD  JUICES & NATURAL BEVERAGES  MURRABBA & CANDY  04-04-2022   \n",
              "\n",
              "   Item Code                    Item Name  Item Disc %  Item disc amount  \\\n",
              "0      71076        SAUMYA EYE DROP 10 ML          8.0          2.500000   \n",
              "1      70853  GILOY GHAN VATI 60 PC (NEW)         10.0          8.928571   \n",
              "2       1095         GULAB SHARBAT 750 ML          8.0          6.779661   \n",
              "3       1379             COWS GHEE 15 LTR          8.3       3855.053571   \n",
              "4       1025    AMLA CHATPATA CANDY 500 G         10.0        325.714286   \n",
              "\n",
              "   Profit %  Item Net Amount     profit   MRP     Net cost  quantity  \\\n",
              "0  16.53831            32.20    4.08000    35    31.250000         1   \n",
              "1  13.98176            90.00    9.85714   100    89.285714         1   \n",
              "2  16.76816            92.00   11.19610   100    84.745763         1   \n",
              "3   0.52727         47702.34  223.39500  8670  7741.071429         6   \n",
              "4  13.67105          3078.00  352.55857   180   171.428571        19   \n",
              "\n",
              "      Sales  weight  \n",
              "0     31.25   0.030  \n",
              "1     89.29   0.060  \n",
              "2     84.75   1.130  \n",
              "3  46446.43  86.880  \n",
              "4   3257.14  11.381  "
            ],
            "text/html": [
              "\n",
              "\n",
              "  <div id=\"df-60ce0aa4-6121-4308-9dff-ab67994e5ac7\">\n",
              "    <div class=\"colab-df-container\">\n",
              "      <div>\n",
              "<style scoped>\n",
              "    .dataframe tbody tr th:only-of-type {\n",
              "        vertical-align: middle;\n",
              "    }\n",
              "\n",
              "    .dataframe tbody tr th {\n",
              "        vertical-align: top;\n",
              "    }\n",
              "\n",
              "    .dataframe thead th {\n",
              "        text-align: right;\n",
              "    }\n",
              "</style>\n",
              "<table border=\"1\" class=\"dataframe\">\n",
              "  <thead>\n",
              "    <tr style=\"text-align: right;\">\n",
              "      <th></th>\n",
              "      <th>Category</th>\n",
              "      <th>Sub category</th>\n",
              "      <th>PRODUCT BRANDS</th>\n",
              "      <th>Order Date</th>\n",
              "      <th>Item Code</th>\n",
              "      <th>Item Name</th>\n",
              "      <th>Item Disc %</th>\n",
              "      <th>Item disc amount</th>\n",
              "      <th>Profit %</th>\n",
              "      <th>Item Net Amount</th>\n",
              "      <th>profit</th>\n",
              "      <th>MRP</th>\n",
              "      <th>Net cost</th>\n",
              "      <th>quantity</th>\n",
              "      <th>Sales</th>\n",
              "      <th>weight</th>\n",
              "    </tr>\n",
              "  </thead>\n",
              "  <tbody>\n",
              "    <tr>\n",
              "      <th>0</th>\n",
              "      <td>NON FOOD</td>\n",
              "      <td>NATURAL PERSONAL CARE</td>\n",
              "      <td>EYE DROP</td>\n",
              "      <td>04-04-2022</td>\n",
              "      <td>71076</td>\n",
              "      <td>SAUMYA EYE DROP 10 ML</td>\n",
              "      <td>8.0</td>\n",
              "      <td>2.500000</td>\n",
              "      <td>16.53831</td>\n",
              "      <td>32.20</td>\n",
              "      <td>4.08000</td>\n",
              "      <td>35</td>\n",
              "      <td>31.250000</td>\n",
              "      <td>1</td>\n",
              "      <td>31.25</td>\n",
              "      <td>0.030</td>\n",
              "    </tr>\n",
              "    <tr>\n",
              "      <th>1</th>\n",
              "      <td>FOOD</td>\n",
              "      <td>JUICES &amp; NATURAL BEVERAGES</td>\n",
              "      <td>MEDICINE</td>\n",
              "      <td>04-04-2022</td>\n",
              "      <td>70853</td>\n",
              "      <td>GILOY GHAN VATI 60 PC (NEW)</td>\n",
              "      <td>10.0</td>\n",
              "      <td>8.928571</td>\n",
              "      <td>13.98176</td>\n",
              "      <td>90.00</td>\n",
              "      <td>9.85714</td>\n",
              "      <td>100</td>\n",
              "      <td>89.285714</td>\n",
              "      <td>1</td>\n",
              "      <td>89.29</td>\n",
              "      <td>0.060</td>\n",
              "    </tr>\n",
              "    <tr>\n",
              "      <th>2</th>\n",
              "      <td>FOOD</td>\n",
              "      <td>JUICES &amp; NATURAL BEVERAGES</td>\n",
              "      <td>SHARBAT THANDAI</td>\n",
              "      <td>04-04-2022</td>\n",
              "      <td>1095</td>\n",
              "      <td>GULAB SHARBAT 750 ML</td>\n",
              "      <td>8.0</td>\n",
              "      <td>6.779661</td>\n",
              "      <td>16.76816</td>\n",
              "      <td>92.00</td>\n",
              "      <td>11.19610</td>\n",
              "      <td>100</td>\n",
              "      <td>84.745763</td>\n",
              "      <td>1</td>\n",
              "      <td>84.75</td>\n",
              "      <td>1.130</td>\n",
              "    </tr>\n",
              "    <tr>\n",
              "      <th>3</th>\n",
              "      <td>FOOD</td>\n",
              "      <td>PHYSICAL OIL &amp; GHEE</td>\n",
              "      <td>GHEE</td>\n",
              "      <td>04-04-2022</td>\n",
              "      <td>1379</td>\n",
              "      <td>COWS GHEE 15 LTR</td>\n",
              "      <td>8.3</td>\n",
              "      <td>3855.053571</td>\n",
              "      <td>0.52727</td>\n",
              "      <td>47702.34</td>\n",
              "      <td>223.39500</td>\n",
              "      <td>8670</td>\n",
              "      <td>7741.071429</td>\n",
              "      <td>6</td>\n",
              "      <td>46446.43</td>\n",
              "      <td>86.880</td>\n",
              "    </tr>\n",
              "    <tr>\n",
              "      <th>4</th>\n",
              "      <td>FOOD</td>\n",
              "      <td>JUICES &amp; NATURAL BEVERAGES</td>\n",
              "      <td>MURRABBA &amp; CANDY</td>\n",
              "      <td>04-04-2022</td>\n",
              "      <td>1025</td>\n",
              "      <td>AMLA CHATPATA CANDY 500 G</td>\n",
              "      <td>10.0</td>\n",
              "      <td>325.714286</td>\n",
              "      <td>13.67105</td>\n",
              "      <td>3078.00</td>\n",
              "      <td>352.55857</td>\n",
              "      <td>180</td>\n",
              "      <td>171.428571</td>\n",
              "      <td>19</td>\n",
              "      <td>3257.14</td>\n",
              "      <td>11.381</td>\n",
              "    </tr>\n",
              "  </tbody>\n",
              "</table>\n",
              "</div>\n",
              "      <button class=\"colab-df-convert\" onclick=\"convertToInteractive('df-60ce0aa4-6121-4308-9dff-ab67994e5ac7')\"\n",
              "              title=\"Convert this dataframe to an interactive table.\"\n",
              "              style=\"display:none;\">\n",
              "\n",
              "  <svg xmlns=\"http://www.w3.org/2000/svg\" height=\"24px\"viewBox=\"0 0 24 24\"\n",
              "       width=\"24px\">\n",
              "    <path d=\"M0 0h24v24H0V0z\" fill=\"none\"/>\n",
              "    <path d=\"M18.56 5.44l.94 2.06.94-2.06 2.06-.94-2.06-.94-.94-2.06-.94 2.06-2.06.94zm-11 1L8.5 8.5l.94-2.06 2.06-.94-2.06-.94L8.5 2.5l-.94 2.06-2.06.94zm10 10l.94 2.06.94-2.06 2.06-.94-2.06-.94-.94-2.06-.94 2.06-2.06.94z\"/><path d=\"M17.41 7.96l-1.37-1.37c-.4-.4-.92-.59-1.43-.59-.52 0-1.04.2-1.43.59L10.3 9.45l-7.72 7.72c-.78.78-.78 2.05 0 2.83L4 21.41c.39.39.9.59 1.41.59.51 0 1.02-.2 1.41-.59l7.78-7.78 2.81-2.81c.8-.78.8-2.07 0-2.86zM5.41 20L4 18.59l7.72-7.72 1.47 1.35L5.41 20z\"/>\n",
              "  </svg>\n",
              "      </button>\n",
              "\n",
              "\n",
              "\n",
              "    <div id=\"df-82284f50-a555-4d5d-bad3-3834580fa6fd\">\n",
              "      <button class=\"colab-df-quickchart\" onclick=\"quickchart('df-82284f50-a555-4d5d-bad3-3834580fa6fd')\"\n",
              "              title=\"Suggest charts.\"\n",
              "              style=\"display:none;\">\n",
              "\n",
              "<svg xmlns=\"http://www.w3.org/2000/svg\" height=\"24px\"viewBox=\"0 0 24 24\"\n",
              "     width=\"24px\">\n",
              "    <g>\n",
              "        <path d=\"M19 3H5c-1.1 0-2 .9-2 2v14c0 1.1.9 2 2 2h14c1.1 0 2-.9 2-2V5c0-1.1-.9-2-2-2zM9 17H7v-7h2v7zm4 0h-2V7h2v10zm4 0h-2v-4h2v4z\"/>\n",
              "    </g>\n",
              "</svg>\n",
              "      </button>\n",
              "    </div>\n",
              "\n",
              "<style>\n",
              "  .colab-df-quickchart {\n",
              "    background-color: #E8F0FE;\n",
              "    border: none;\n",
              "    border-radius: 50%;\n",
              "    cursor: pointer;\n",
              "    display: none;\n",
              "    fill: #1967D2;\n",
              "    height: 32px;\n",
              "    padding: 0 0 0 0;\n",
              "    width: 32px;\n",
              "  }\n",
              "\n",
              "  .colab-df-quickchart:hover {\n",
              "    background-color: #E2EBFA;\n",
              "    box-shadow: 0px 1px 2px rgba(60, 64, 67, 0.3), 0px 1px 3px 1px rgba(60, 64, 67, 0.15);\n",
              "    fill: #174EA6;\n",
              "  }\n",
              "\n",
              "  [theme=dark] .colab-df-quickchart {\n",
              "    background-color: #3B4455;\n",
              "    fill: #D2E3FC;\n",
              "  }\n",
              "\n",
              "  [theme=dark] .colab-df-quickchart:hover {\n",
              "    background-color: #434B5C;\n",
              "    box-shadow: 0px 1px 3px 1px rgba(0, 0, 0, 0.15);\n",
              "    filter: drop-shadow(0px 1px 2px rgba(0, 0, 0, 0.3));\n",
              "    fill: #FFFFFF;\n",
              "  }\n",
              "</style>\n",
              "\n",
              "    <script>\n",
              "      async function quickchart(key) {\n",
              "        const containerElement = document.querySelector('#' + key);\n",
              "        const charts = await google.colab.kernel.invokeFunction(\n",
              "            'suggestCharts', [key], {});\n",
              "      }\n",
              "    </script>\n",
              "\n",
              "      <script>\n",
              "\n",
              "function displayQuickchartButton(domScope) {\n",
              "  let quickchartButtonEl =\n",
              "    domScope.querySelector('#df-82284f50-a555-4d5d-bad3-3834580fa6fd button.colab-df-quickchart');\n",
              "  quickchartButtonEl.style.display =\n",
              "    google.colab.kernel.accessAllowed ? 'block' : 'none';\n",
              "}\n",
              "\n",
              "        displayQuickchartButton(document);\n",
              "      </script>\n",
              "      <style>\n",
              "    .colab-df-container {\n",
              "      display:flex;\n",
              "      flex-wrap:wrap;\n",
              "      gap: 12px;\n",
              "    }\n",
              "\n",
              "    .colab-df-convert {\n",
              "      background-color: #E8F0FE;\n",
              "      border: none;\n",
              "      border-radius: 50%;\n",
              "      cursor: pointer;\n",
              "      display: none;\n",
              "      fill: #1967D2;\n",
              "      height: 32px;\n",
              "      padding: 0 0 0 0;\n",
              "      width: 32px;\n",
              "    }\n",
              "\n",
              "    .colab-df-convert:hover {\n",
              "      background-color: #E2EBFA;\n",
              "      box-shadow: 0px 1px 2px rgba(60, 64, 67, 0.3), 0px 1px 3px 1px rgba(60, 64, 67, 0.15);\n",
              "      fill: #174EA6;\n",
              "    }\n",
              "\n",
              "    [theme=dark] .colab-df-convert {\n",
              "      background-color: #3B4455;\n",
              "      fill: #D2E3FC;\n",
              "    }\n",
              "\n",
              "    [theme=dark] .colab-df-convert:hover {\n",
              "      background-color: #434B5C;\n",
              "      box-shadow: 0px 1px 3px 1px rgba(0, 0, 0, 0.15);\n",
              "      filter: drop-shadow(0px 1px 2px rgba(0, 0, 0, 0.3));\n",
              "      fill: #FFFFFF;\n",
              "    }\n",
              "  </style>\n",
              "\n",
              "      <script>\n",
              "        const buttonEl =\n",
              "          document.querySelector('#df-60ce0aa4-6121-4308-9dff-ab67994e5ac7 button.colab-df-convert');\n",
              "        buttonEl.style.display =\n",
              "          google.colab.kernel.accessAllowed ? 'block' : 'none';\n",
              "\n",
              "        async function convertToInteractive(key) {\n",
              "          const element = document.querySelector('#df-60ce0aa4-6121-4308-9dff-ab67994e5ac7');\n",
              "          const dataTable =\n",
              "            await google.colab.kernel.invokeFunction('convertToInteractive',\n",
              "                                                     [key], {});\n",
              "          if (!dataTable) return;\n",
              "\n",
              "          const docLinkHtml = 'Like what you see? Visit the ' +\n",
              "            '<a target=\"_blank\" href=https://colab.research.google.com/notebooks/data_table.ipynb>data table notebook</a>'\n",
              "            + ' to learn more about interactive tables.';\n",
              "          element.innerHTML = '';\n",
              "          dataTable['output_type'] = 'display_data';\n",
              "          await google.colab.output.renderOutput(dataTable, element);\n",
              "          const docLink = document.createElement('div');\n",
              "          docLink.innerHTML = docLinkHtml;\n",
              "          element.appendChild(docLink);\n",
              "        }\n",
              "      </script>\n",
              "    </div>\n",
              "  </div>\n"
            ]
          },
          "metadata": {},
          "execution_count": 4
        }
      ]
    },
    {
      "cell_type": "code",
      "metadata": {
        "colab": {
          "base_uri": "https://localhost:8080/"
        },
        "id": "t_HuzdTTdiqb",
        "outputId": "b5988db4-539a-4f6c-f8ae-7f486451ad31"
      },
      "source": [
        "# number of data points & number of features\n",
        "data.shape"
      ],
      "execution_count": 5,
      "outputs": [
        {
          "output_type": "execute_result",
          "data": {
            "text/plain": [
              "(15856, 16)"
            ]
          },
          "metadata": {},
          "execution_count": 5
        }
      ]
    },
    {
      "cell_type": "code",
      "metadata": {
        "colab": {
          "base_uri": "https://localhost:8080/"
        },
        "id": "YzjdyEigd0GM",
        "outputId": "e823c91d-32cd-4ba4-ceba-3f68386af03d"
      },
      "source": [
        "# getting some information about the dataset\n",
        "data.info()"
      ],
      "execution_count": 6,
      "outputs": [
        {
          "output_type": "stream",
          "name": "stdout",
          "text": [
            "<class 'pandas.core.frame.DataFrame'>\n",
            "RangeIndex: 15856 entries, 0 to 15855\n",
            "Data columns (total 16 columns):\n",
            " #   Column            Non-Null Count  Dtype  \n",
            "---  ------            --------------  -----  \n",
            " 0   Category          15856 non-null  object \n",
            " 1   Sub category      15856 non-null  object \n",
            " 2   PRODUCT BRANDS    15856 non-null  object \n",
            " 3   Order Date        15856 non-null  object \n",
            " 4   Item Code         15856 non-null  int64  \n",
            " 5   Item Name         15856 non-null  object \n",
            " 6   Item Disc %       15856 non-null  float64\n",
            " 7   Item disc amount  15856 non-null  float64\n",
            " 8   Profit %          15856 non-null  float64\n",
            " 9   Item Net Amount   15856 non-null  float64\n",
            " 10  profit            15856 non-null  float64\n",
            " 11  MRP               15856 non-null  int64  \n",
            " 12  Net cost          15856 non-null  float64\n",
            " 13  quantity          15856 non-null  int64  \n",
            " 14  Sales             15856 non-null  float64\n",
            " 15  weight            15856 non-null  float64\n",
            "dtypes: float64(8), int64(3), object(5)\n",
            "memory usage: 1.9+ MB\n"
          ]
        }
      ]
    },
    {
      "cell_type": "markdown",
      "metadata": {
        "id": "2cncN8QXfeXm"
      },
      "source": [
        "Categorical Features:\n",
        "- Category\n",
        "- Sub category\n",
        "- PRODUCT BRANDS\n",
        "- Order Date\n",
        "- Item Name\n"
      ]
    },
    {
      "cell_type": "code",
      "metadata": {
        "colab": {
          "base_uri": "https://localhost:8080/"
        },
        "id": "fcsNUlTtej1f",
        "outputId": "a74b29b4-9bc0-4475-a8b3-f2396fe75808"
      },
      "source": [
        "# checking for missing values\n",
        "data.isnull().sum()"
      ],
      "execution_count": 7,
      "outputs": [
        {
          "output_type": "execute_result",
          "data": {
            "text/plain": [
              "Category            0\n",
              "Sub category        0\n",
              "PRODUCT BRANDS      0\n",
              "Order Date          0\n",
              "Item Code           0\n",
              "Item Name           0\n",
              "Item Disc %         0\n",
              "Item disc amount    0\n",
              "Profit %            0\n",
              "Item Net Amount     0\n",
              "profit              0\n",
              "MRP                 0\n",
              "Net cost            0\n",
              "quantity            0\n",
              "Sales               0\n",
              "weight              0\n",
              "dtype: int64"
            ]
          },
          "metadata": {},
          "execution_count": 7
        }
      ]
    },
    {
      "cell_type": "markdown",
      "metadata": {
        "id": "N-yzq6Tvkpak"
      },
      "source": [
        "Handling Missing Values"
      ]
    },
    {
      "cell_type": "markdown",
      "metadata": {
        "id": "6Y6hOo6zl1JE"
      },
      "source": [
        "Mean --> average\n",
        "\n",
        "Mode --> more repeated value"
      ]
    },
    {
      "cell_type": "code",
      "metadata": {
        "colab": {
          "base_uri": "https://localhost:8080/"
        },
        "id": "0Iim8oBml0H6",
        "outputId": "0273293f-7c78-44ef-ee05-2afd54dcbf54"
      },
      "source": [
        "# mean value of \"Weight\" column\n",
        "data['weight'].mean()"
      ],
      "execution_count": 8,
      "outputs": [
        {
          "output_type": "execute_result",
          "data": {
            "text/plain": [
              "2.139942167003027"
            ]
          },
          "metadata": {},
          "execution_count": 8
        }
      ]
    },
    {
      "cell_type": "markdown",
      "metadata": {
        "id": "rIC7GbtbsBRd"
      },
      "source": [
        "Data Analysis"
      ]
    },
    {
      "cell_type": "code",
      "metadata": {
        "colab": {
          "base_uri": "https://localhost:8080/",
          "height": 381
        },
        "id": "E4Vyd4StBoBE",
        "outputId": "2de85469-9f19-4ef7-89f6-a11a5ea5ec2b"
      },
      "source": [
        "data.describe()"
      ],
      "execution_count": 9,
      "outputs": [
        {
          "output_type": "execute_result",
          "data": {
            "text/plain": [
              "          Item Code   Item Disc %  Item disc amount      Profit %  \\\n",
              "count  1.585600e+04  15856.000000      15856.000000  15856.000000   \n",
              "mean   1.276555e+07      5.244960         38.214237     19.015875   \n",
              "std    4.587819e+07      5.702808        112.041718    103.522553   \n",
              "min    1.015000e+03      0.000000          0.000000    -98.789550   \n",
              "25%    7.008000e+04      0.000000          0.000000      7.769217   \n",
              "50%    7.227400e+04      7.000000          1.785714     13.673010   \n",
              "75%    8.124400e+04     10.000000         18.750000     18.691540   \n",
              "max    1.800075e+08     99.500000       3942.857143   3089.356660   \n",
              "\n",
              "       Item Net Amount        profit           MRP      Net cost     quantity  \\\n",
              "count     15856.000000  15856.000000  15856.000000  15856.000000  15856.00000   \n",
              "mean        631.451365     37.938506    113.590565    102.243051      8.57997   \n",
              "std        1401.224148     95.121062    240.485730    216.399086     28.02450   \n",
              "min           0.830000  -1308.500340      1.000000      0.847458      1.00000   \n",
              "25%          27.600000      2.503520     15.000000     15.000000      1.00000   \n",
              "50%          77.635000      7.387830     50.000000     42.857143      2.00000   \n",
              "75%         542.800000     36.447860    100.000000     89.523810      8.00000   \n",
              "max       47702.340000   2059.650000   8670.000000   7741.071429   1800.00000   \n",
              "\n",
              "              Sales        weight  \n",
              "count  15856.000000  15856.000000  \n",
              "mean     627.481983      2.139942  \n",
              "std     1378.675447      5.822805  \n",
              "min        0.850000      0.001000  \n",
              "25%       28.570000      0.084000  \n",
              "50%       76.190000      0.276000  \n",
              "75%      542.860000      1.140000  \n",
              "max    46446.430000    257.000000  "
            ],
            "text/html": [
              "\n",
              "\n",
              "  <div id=\"df-02bc8829-b64b-4f73-8789-a022c88df978\">\n",
              "    <div class=\"colab-df-container\">\n",
              "      <div>\n",
              "<style scoped>\n",
              "    .dataframe tbody tr th:only-of-type {\n",
              "        vertical-align: middle;\n",
              "    }\n",
              "\n",
              "    .dataframe tbody tr th {\n",
              "        vertical-align: top;\n",
              "    }\n",
              "\n",
              "    .dataframe thead th {\n",
              "        text-align: right;\n",
              "    }\n",
              "</style>\n",
              "<table border=\"1\" class=\"dataframe\">\n",
              "  <thead>\n",
              "    <tr style=\"text-align: right;\">\n",
              "      <th></th>\n",
              "      <th>Item Code</th>\n",
              "      <th>Item Disc %</th>\n",
              "      <th>Item disc amount</th>\n",
              "      <th>Profit %</th>\n",
              "      <th>Item Net Amount</th>\n",
              "      <th>profit</th>\n",
              "      <th>MRP</th>\n",
              "      <th>Net cost</th>\n",
              "      <th>quantity</th>\n",
              "      <th>Sales</th>\n",
              "      <th>weight</th>\n",
              "    </tr>\n",
              "  </thead>\n",
              "  <tbody>\n",
              "    <tr>\n",
              "      <th>count</th>\n",
              "      <td>1.585600e+04</td>\n",
              "      <td>15856.000000</td>\n",
              "      <td>15856.000000</td>\n",
              "      <td>15856.000000</td>\n",
              "      <td>15856.000000</td>\n",
              "      <td>15856.000000</td>\n",
              "      <td>15856.000000</td>\n",
              "      <td>15856.000000</td>\n",
              "      <td>15856.00000</td>\n",
              "      <td>15856.000000</td>\n",
              "      <td>15856.000000</td>\n",
              "    </tr>\n",
              "    <tr>\n",
              "      <th>mean</th>\n",
              "      <td>1.276555e+07</td>\n",
              "      <td>5.244960</td>\n",
              "      <td>38.214237</td>\n",
              "      <td>19.015875</td>\n",
              "      <td>631.451365</td>\n",
              "      <td>37.938506</td>\n",
              "      <td>113.590565</td>\n",
              "      <td>102.243051</td>\n",
              "      <td>8.57997</td>\n",
              "      <td>627.481983</td>\n",
              "      <td>2.139942</td>\n",
              "    </tr>\n",
              "    <tr>\n",
              "      <th>std</th>\n",
              "      <td>4.587819e+07</td>\n",
              "      <td>5.702808</td>\n",
              "      <td>112.041718</td>\n",
              "      <td>103.522553</td>\n",
              "      <td>1401.224148</td>\n",
              "      <td>95.121062</td>\n",
              "      <td>240.485730</td>\n",
              "      <td>216.399086</td>\n",
              "      <td>28.02450</td>\n",
              "      <td>1378.675447</td>\n",
              "      <td>5.822805</td>\n",
              "    </tr>\n",
              "    <tr>\n",
              "      <th>min</th>\n",
              "      <td>1.015000e+03</td>\n",
              "      <td>0.000000</td>\n",
              "      <td>0.000000</td>\n",
              "      <td>-98.789550</td>\n",
              "      <td>0.830000</td>\n",
              "      <td>-1308.500340</td>\n",
              "      <td>1.000000</td>\n",
              "      <td>0.847458</td>\n",
              "      <td>1.00000</td>\n",
              "      <td>0.850000</td>\n",
              "      <td>0.001000</td>\n",
              "    </tr>\n",
              "    <tr>\n",
              "      <th>25%</th>\n",
              "      <td>7.008000e+04</td>\n",
              "      <td>0.000000</td>\n",
              "      <td>0.000000</td>\n",
              "      <td>7.769217</td>\n",
              "      <td>27.600000</td>\n",
              "      <td>2.503520</td>\n",
              "      <td>15.000000</td>\n",
              "      <td>15.000000</td>\n",
              "      <td>1.00000</td>\n",
              "      <td>28.570000</td>\n",
              "      <td>0.084000</td>\n",
              "    </tr>\n",
              "    <tr>\n",
              "      <th>50%</th>\n",
              "      <td>7.227400e+04</td>\n",
              "      <td>7.000000</td>\n",
              "      <td>1.785714</td>\n",
              "      <td>13.673010</td>\n",
              "      <td>77.635000</td>\n",
              "      <td>7.387830</td>\n",
              "      <td>50.000000</td>\n",
              "      <td>42.857143</td>\n",
              "      <td>2.00000</td>\n",
              "      <td>76.190000</td>\n",
              "      <td>0.276000</td>\n",
              "    </tr>\n",
              "    <tr>\n",
              "      <th>75%</th>\n",
              "      <td>8.124400e+04</td>\n",
              "      <td>10.000000</td>\n",
              "      <td>18.750000</td>\n",
              "      <td>18.691540</td>\n",
              "      <td>542.800000</td>\n",
              "      <td>36.447860</td>\n",
              "      <td>100.000000</td>\n",
              "      <td>89.523810</td>\n",
              "      <td>8.00000</td>\n",
              "      <td>542.860000</td>\n",
              "      <td>1.140000</td>\n",
              "    </tr>\n",
              "    <tr>\n",
              "      <th>max</th>\n",
              "      <td>1.800075e+08</td>\n",
              "      <td>99.500000</td>\n",
              "      <td>3942.857143</td>\n",
              "      <td>3089.356660</td>\n",
              "      <td>47702.340000</td>\n",
              "      <td>2059.650000</td>\n",
              "      <td>8670.000000</td>\n",
              "      <td>7741.071429</td>\n",
              "      <td>1800.00000</td>\n",
              "      <td>46446.430000</td>\n",
              "      <td>257.000000</td>\n",
              "    </tr>\n",
              "  </tbody>\n",
              "</table>\n",
              "</div>\n",
              "      <button class=\"colab-df-convert\" onclick=\"convertToInteractive('df-02bc8829-b64b-4f73-8789-a022c88df978')\"\n",
              "              title=\"Convert this dataframe to an interactive table.\"\n",
              "              style=\"display:none;\">\n",
              "\n",
              "  <svg xmlns=\"http://www.w3.org/2000/svg\" height=\"24px\"viewBox=\"0 0 24 24\"\n",
              "       width=\"24px\">\n",
              "    <path d=\"M0 0h24v24H0V0z\" fill=\"none\"/>\n",
              "    <path d=\"M18.56 5.44l.94 2.06.94-2.06 2.06-.94-2.06-.94-.94-2.06-.94 2.06-2.06.94zm-11 1L8.5 8.5l.94-2.06 2.06-.94-2.06-.94L8.5 2.5l-.94 2.06-2.06.94zm10 10l.94 2.06.94-2.06 2.06-.94-2.06-.94-.94-2.06-.94 2.06-2.06.94z\"/><path d=\"M17.41 7.96l-1.37-1.37c-.4-.4-.92-.59-1.43-.59-.52 0-1.04.2-1.43.59L10.3 9.45l-7.72 7.72c-.78.78-.78 2.05 0 2.83L4 21.41c.39.39.9.59 1.41.59.51 0 1.02-.2 1.41-.59l7.78-7.78 2.81-2.81c.8-.78.8-2.07 0-2.86zM5.41 20L4 18.59l7.72-7.72 1.47 1.35L5.41 20z\"/>\n",
              "  </svg>\n",
              "      </button>\n",
              "\n",
              "\n",
              "\n",
              "    <div id=\"df-4d843ea2-5a89-4b70-837f-634b720e7e40\">\n",
              "      <button class=\"colab-df-quickchart\" onclick=\"quickchart('df-4d843ea2-5a89-4b70-837f-634b720e7e40')\"\n",
              "              title=\"Suggest charts.\"\n",
              "              style=\"display:none;\">\n",
              "\n",
              "<svg xmlns=\"http://www.w3.org/2000/svg\" height=\"24px\"viewBox=\"0 0 24 24\"\n",
              "     width=\"24px\">\n",
              "    <g>\n",
              "        <path d=\"M19 3H5c-1.1 0-2 .9-2 2v14c0 1.1.9 2 2 2h14c1.1 0 2-.9 2-2V5c0-1.1-.9-2-2-2zM9 17H7v-7h2v7zm4 0h-2V7h2v10zm4 0h-2v-4h2v4z\"/>\n",
              "    </g>\n",
              "</svg>\n",
              "      </button>\n",
              "    </div>\n",
              "\n",
              "<style>\n",
              "  .colab-df-quickchart {\n",
              "    background-color: #E8F0FE;\n",
              "    border: none;\n",
              "    border-radius: 50%;\n",
              "    cursor: pointer;\n",
              "    display: none;\n",
              "    fill: #1967D2;\n",
              "    height: 32px;\n",
              "    padding: 0 0 0 0;\n",
              "    width: 32px;\n",
              "  }\n",
              "\n",
              "  .colab-df-quickchart:hover {\n",
              "    background-color: #E2EBFA;\n",
              "    box-shadow: 0px 1px 2px rgba(60, 64, 67, 0.3), 0px 1px 3px 1px rgba(60, 64, 67, 0.15);\n",
              "    fill: #174EA6;\n",
              "  }\n",
              "\n",
              "  [theme=dark] .colab-df-quickchart {\n",
              "    background-color: #3B4455;\n",
              "    fill: #D2E3FC;\n",
              "  }\n",
              "\n",
              "  [theme=dark] .colab-df-quickchart:hover {\n",
              "    background-color: #434B5C;\n",
              "    box-shadow: 0px 1px 3px 1px rgba(0, 0, 0, 0.15);\n",
              "    filter: drop-shadow(0px 1px 2px rgba(0, 0, 0, 0.3));\n",
              "    fill: #FFFFFF;\n",
              "  }\n",
              "</style>\n",
              "\n",
              "    <script>\n",
              "      async function quickchart(key) {\n",
              "        const containerElement = document.querySelector('#' + key);\n",
              "        const charts = await google.colab.kernel.invokeFunction(\n",
              "            'suggestCharts', [key], {});\n",
              "      }\n",
              "    </script>\n",
              "\n",
              "      <script>\n",
              "\n",
              "function displayQuickchartButton(domScope) {\n",
              "  let quickchartButtonEl =\n",
              "    domScope.querySelector('#df-4d843ea2-5a89-4b70-837f-634b720e7e40 button.colab-df-quickchart');\n",
              "  quickchartButtonEl.style.display =\n",
              "    google.colab.kernel.accessAllowed ? 'block' : 'none';\n",
              "}\n",
              "\n",
              "        displayQuickchartButton(document);\n",
              "      </script>\n",
              "      <style>\n",
              "    .colab-df-container {\n",
              "      display:flex;\n",
              "      flex-wrap:wrap;\n",
              "      gap: 12px;\n",
              "    }\n",
              "\n",
              "    .colab-df-convert {\n",
              "      background-color: #E8F0FE;\n",
              "      border: none;\n",
              "      border-radius: 50%;\n",
              "      cursor: pointer;\n",
              "      display: none;\n",
              "      fill: #1967D2;\n",
              "      height: 32px;\n",
              "      padding: 0 0 0 0;\n",
              "      width: 32px;\n",
              "    }\n",
              "\n",
              "    .colab-df-convert:hover {\n",
              "      background-color: #E2EBFA;\n",
              "      box-shadow: 0px 1px 2px rgba(60, 64, 67, 0.3), 0px 1px 3px 1px rgba(60, 64, 67, 0.15);\n",
              "      fill: #174EA6;\n",
              "    }\n",
              "\n",
              "    [theme=dark] .colab-df-convert {\n",
              "      background-color: #3B4455;\n",
              "      fill: #D2E3FC;\n",
              "    }\n",
              "\n",
              "    [theme=dark] .colab-df-convert:hover {\n",
              "      background-color: #434B5C;\n",
              "      box-shadow: 0px 1px 3px 1px rgba(0, 0, 0, 0.15);\n",
              "      filter: drop-shadow(0px 1px 2px rgba(0, 0, 0, 0.3));\n",
              "      fill: #FFFFFF;\n",
              "    }\n",
              "  </style>\n",
              "\n",
              "      <script>\n",
              "        const buttonEl =\n",
              "          document.querySelector('#df-02bc8829-b64b-4f73-8789-a022c88df978 button.colab-df-convert');\n",
              "        buttonEl.style.display =\n",
              "          google.colab.kernel.accessAllowed ? 'block' : 'none';\n",
              "\n",
              "        async function convertToInteractive(key) {\n",
              "          const element = document.querySelector('#df-02bc8829-b64b-4f73-8789-a022c88df978');\n",
              "          const dataTable =\n",
              "            await google.colab.kernel.invokeFunction('convertToInteractive',\n",
              "                                                     [key], {});\n",
              "          if (!dataTable) return;\n",
              "\n",
              "          const docLinkHtml = 'Like what you see? Visit the ' +\n",
              "            '<a target=\"_blank\" href=https://colab.research.google.com/notebooks/data_table.ipynb>data table notebook</a>'\n",
              "            + ' to learn more about interactive tables.';\n",
              "          element.innerHTML = '';\n",
              "          dataTable['output_type'] = 'display_data';\n",
              "          await google.colab.output.renderOutput(dataTable, element);\n",
              "          const docLink = document.createElement('div');\n",
              "          docLink.innerHTML = docLinkHtml;\n",
              "          element.appendChild(docLink);\n",
              "        }\n",
              "      </script>\n",
              "    </div>\n",
              "  </div>\n"
            ]
          },
          "metadata": {},
          "execution_count": 9
        }
      ]
    },
    {
      "cell_type": "markdown",
      "metadata": {
        "id": "GdDN9rvWuICQ"
      },
      "source": [
        "Numerical Features"
      ]
    },
    {
      "cell_type": "code",
      "metadata": {
        "id": "1GKY5qyrtJqs"
      },
      "source": [
        "sns.set()"
      ],
      "execution_count": 10,
      "outputs": []
    },
    {
      "cell_type": "code",
      "metadata": {
        "colab": {
          "base_uri": "https://localhost:8080/",
          "height": 741
        },
        "id": "5rksM5MimhOF",
        "outputId": "e15756f2-7edd-4099-fe87-ea5b7eb9b010"
      },
      "source": [
        "# Item Weight distribution\n",
        "plt.figure(figsize=(6,6))\n",
        "sns.distplot(data['weight'])\n",
        "plt.show()"
      ],
      "execution_count": 11,
      "outputs": [
        {
          "output_type": "stream",
          "name": "stderr",
          "text": [
            "<ipython-input-11-cfac0ad5156f>:3: UserWarning: \n",
            "\n",
            "`distplot` is a deprecated function and will be removed in seaborn v0.14.0.\n",
            "\n",
            "Please adapt your code to use either `displot` (a figure-level function with\n",
            "similar flexibility) or `histplot` (an axes-level function for histograms).\n",
            "\n",
            "For a guide to updating your code to use the new functions, please see\n",
            "https://gist.github.com/mwaskom/de44147ed2974457ad6372750bbe5751\n",
            "\n",
            "  sns.distplot(data['weight'])\n"
          ]
        },
        {
          "output_type": "display_data",
          "data": {
            "text/plain": [
              "<Figure size 600x600 with 1 Axes>"
            ],
            "image/png": "[encoded data removed]"
          },
          "metadata": {}
        }
      ]
    },
    {
      "cell_type": "code",
      "metadata": {
        "colab": {
          "base_uri": "https://localhost:8080/",
          "height": 741
        },
        "id": "-qLPjmVSsYVN",
        "outputId": "456f80bf-e760-4531-c9af-c94c146fe7f8"
      },
      "source": [
        "# Item MRP distribution\n",
        "plt.figure(figsize=(6,6))\n",
        "sns.distplot(data['MRP'])\n",
        "plt.show()"
      ],
      "execution_count": 12,
      "outputs": [
        {
          "output_type": "stream",
          "name": "stderr",
          "text": [
            "<ipython-input-12-fd6614d7dc66>:3: UserWarning: \n",
            "\n",
            "`distplot` is a deprecated function and will be removed in seaborn v0.14.0.\n",
            "\n",
            "Please adapt your code to use either `displot` (a figure-level function with\n",
            "similar flexibility) or `histplot` (an axes-level function for histograms).\n",
            "\n",
            "For a guide to updating your code to use the new functions, please see\n",
            "https://gist.github.com/mwaskom/de44147ed2974457ad6372750bbe5751\n",
            "\n",
            "  sns.distplot(data['MRP'])\n"
          ]
        },
        {
          "output_type": "display_data",
          "data": {
            "text/plain": [
              "<Figure size 600x600 with 1 Axes>"
            ],
            "image/png": "[encoded data removed]"
          },
          "metadata": {}
        }
      ]
    },
    {
      "cell_type": "code",
      "metadata": {
        "colab": {
          "base_uri": "https://localhost:8080/",
          "height": 741
        },
        "id": "pEPbiUEjttpz",
        "outputId": "7b1c78dd-96c6-4887-8c18-706fa5603692"
      },
      "source": [
        "# Items Sales distribution\n",
        "plt.figure(figsize=(6,6))\n",
        "sns.distplot(data['Sales'])\n",
        "plt.show()"
      ],
      "execution_count": 13,
      "outputs": [
        {
          "output_type": "stream",
          "name": "stderr",
          "text": [
            "<ipython-input-13-287d1584873a>:3: UserWarning: \n",
            "\n",
            "`distplot` is a deprecated function and will be removed in seaborn v0.14.0.\n",
            "\n",
            "Please adapt your code to use either `displot` (a figure-level function with\n",
            "similar flexibility) or `histplot` (an axes-level function for histograms).\n",
            "\n",
            "For a guide to updating your code to use the new functions, please see\n",
            "https://gist.github.com/mwaskom/de44147ed2974457ad6372750bbe5751\n",
            "\n",
            "  sns.distplot(data['Sales'])\n"
          ]
        },
        {
          "output_type": "display_data",
          "data": {
            "text/plain": [
              "<Figure size 600x600 with 1 Axes>"
            ],
            "image/png": "[encoded data removed]"
          },
          "metadata": {}
        }
      ]
    },
    {
      "cell_type": "markdown",
      "metadata": {
        "id": "IGtSKeFnuNJy"
      },
      "source": [
        "Categorical Features"
      ]
    },
    {
      "cell_type": "code",
      "metadata": {
        "colab": {
          "base_uri": "https://localhost:8080/",
          "height": 206
        },
        "id": "RHm0Sh8vuyKM",
        "outputId": "2b413fac-a9ad-4870-fd1c-0d424201a2ec"
      },
      "source": [
        "# Item Category column\n",
        "plt.figure(figsize=(30,6))\n",
        "sns.countplot(x='Category', data=data)\n",
        "plt.show()"
      ],
      "execution_count": 14,
      "outputs": [
        {
          "output_type": "display_data",
          "data": {
            "text/plain": [
              "<Figure size 3000x600 with 1 Axes>"
            ],
            "image/png": "[encoded data removed]"
          },
          "metadata": {}
        }
      ]
    },
    {
      "cell_type": "code",
      "source": [
        "# Item Subcategory column\n",
        "plt.figure(figsize=(30,6))\n",
        "sns.countplot(x='Sub category', data=data)\n",
        "plt.show()"
      ],
      "metadata": {
        "colab": {
          "base_uri": "https://localhost:8080/",
          "height": 206
        },
        "id": "5GQDOZrhuukT",
        "outputId": "130c27d8-1fbf-417b-baec-e12a9ffb8002"
      },
      "execution_count": 15,
      "outputs": [
        {
          "output_type": "display_data",
          "data": {
            "text/plain": [
              "<Figure size 3000x600 with 1 Axes>"
            ],
            "image/png": "[encoded data removed]"
          },
          "metadata": {}
        }
      ]
    },
    {
      "cell_type": "markdown",
      "metadata": {
        "id": "adBk67n8GjAH"
      },
      "source": [
        "Data Pre-Processing"
      ]
    },
    {
      "cell_type": "code",
      "metadata": {
        "colab": {
          "base_uri": "https://localhost:8080/",
          "height": 912
        },
        "id": "KhYlm6NiGYa6",
        "outputId": "a249b004-8363-42f4-9e45-3c20ab6e4b61"
      },
      "source": [
        "data.head(10)"
      ],
      "execution_count": 16,
      "outputs": [
        {
          "output_type": "execute_result",
          "data": {
            "text/plain": [
              "          Category                Sub category    PRODUCT BRANDS  Order Date  \\\n",
              "0         NON FOOD       NATURAL PERSONAL CARE          EYE DROP  04-04-2022   \n",
              "1             FOOD  JUICES & NATURAL BEVERAGES          MEDICINE  04-04-2022   \n",
              "2             FOOD  JUICES & NATURAL BEVERAGES   SHARBAT THANDAI  04-04-2022   \n",
              "3             FOOD         PHYSICAL OIL & GHEE              GHEE  04-04-2022   \n",
              "4             FOOD  JUICES & NATURAL BEVERAGES  MURRABBA & CANDY  04-04-2022   \n",
              "5  AASTHA DIVISION             AASTHA DIVISION      AASTHA DHOOP  04-04-2022   \n",
              "6             FOOD  JUICES & NATURAL BEVERAGES   SHARBAT THANDAI  04-04-2022   \n",
              "7         NON FOOD       NATURAL PERSONAL CARE          EYE DROP  04-04-2022   \n",
              "8             FOOD  JUICES & NATURAL BEVERAGES   SHARBAT THANDAI  04-04-2022   \n",
              "9         NON FOOD       NATURAL PERSONAL CARE          EYE DROP  04-04-2022   \n",
              "\n",
              "   Item Code                      Item Name  Item Disc %  Item disc amount  \\\n",
              "0      71076          SAUMYA EYE DROP 10 ML          8.0          2.500000   \n",
              "1      70853    GILOY GHAN VATI 60 PC (NEW)         10.0          8.928571   \n",
              "2       1095           GULAB SHARBAT 750 ML          8.0          6.779661   \n",
              "3       1379               COWS GHEE 15 LTR          8.3       3855.053571   \n",
              "4       1025      AMLA CHATPATA CANDY 500 G         10.0        325.714286   \n",
              "5      70903  AASTHA SANDAL DHOOP -20 STICK          8.0          2.285714   \n",
              "6       1095           GULAB SHARBAT 750 ML         10.0          8.474576   \n",
              "7      71076          SAUMYA EYE DROP 10 ML         10.0          3.125000   \n",
              "8       1095           GULAB SHARBAT 750 ML         10.0        203.389830   \n",
              "9      70795   DRISHTI EYE DROP 10 ML (NEW)          5.0          0.892857   \n",
              "\n",
              "   Profit %  Item Net Amount     profit   MRP     Net cost  quantity  \\\n",
              "0  16.53831            32.20    4.08000    35    31.250000         1   \n",
              "1  13.98176            90.00    9.85714   100    89.285714         1   \n",
              "2  16.76816            92.00   11.19610   100    84.745763         1   \n",
              "3   0.52727         47702.34  223.39500  8670  7741.071429         6   \n",
              "4  13.67105          3078.00  352.55857   180   171.428571        19   \n",
              "5  23.23354            27.60    4.95571    30    28.571429         1   \n",
              "6  14.22972            90.00    9.50119   100    84.745763         1   \n",
              "7  14.00486            31.50    3.45500    35    31.250000         1   \n",
              "8  14.22972          2160.00  228.02847   100    84.745763        24   \n",
              "9  20.31408            19.00    2.86429    20    17.857143         1   \n",
              "\n",
              "      Sales  weight  \n",
              "0     31.25   0.030  \n",
              "1     89.29   0.060  \n",
              "2     84.75   1.130  \n",
              "3  46446.43  86.880  \n",
              "4   3257.14  11.381  \n",
              "5     28.57   0.160  \n",
              "6     84.75   1.130  \n",
              "7     31.25   0.030  \n",
              "8   2033.90  27.120  \n",
              "9     17.86   0.030  "
            ],
            "text/html": [
              "\n",
              "\n",
              "  <div id=\"df-b9f643c1-5766-4ad8-a6d4-bd3224a38714\">\n",
              "    <div class=\"colab-df-container\">\n",
              "      <div>\n",
              "<style scoped>\n",
              "    .dataframe tbody tr th:only-of-type {\n",
              "        vertical-align: middle;\n",
              "    }\n",
              "\n",
              "    .dataframe tbody tr th {\n",
              "        vertical-align: top;\n",
              "    }\n",
              "\n",
              "    .dataframe thead th {\n",
              "        text-align: right;\n",
              "    }\n",
              "</style>\n",
              "<table border=\"1\" class=\"dataframe\">\n",
              "  <thead>\n",
              "    <tr style=\"text-align: right;\">\n",
              "      <th></th>\n",
              "      <th>Category</th>\n",
              "      <th>Sub category</th>\n",
              "      <th>PRODUCT BRANDS</th>\n",
              "      <th>Order Date</th>\n",
              "      <th>Item Code</th>\n",
              "      <th>Item Name</th>\n",
              "      <th>Item Disc %</th>\n",
              "      <th>Item disc amount</th>\n",
              "      <th>Profit %</th>\n",
              "      <th>Item Net Amount</th>\n",
              "      <th>profit</th>\n",
              "      <th>MRP</th>\n",
              "      <th>Net cost</th>\n",
              "      <th>quantity</th>\n",
              "      <th>Sales</th>\n",
              "      <th>weight</th>\n",
              "    </tr>\n",
              "  </thead>\n",
              "  <tbody>\n",
              "    <tr>\n",
              "      <th>0</th>\n",
              "      <td>NON FOOD</td>\n",
              "      <td>NATURAL PERSONAL CARE</td>\n",
              "      <td>EYE DROP</td>\n",
              "      <td>04-04-2022</td>\n",
              "      <td>71076</td>\n",
              "      <td>SAUMYA EYE DROP 10 ML</td>\n",
              "      <td>8.0</td>\n",
              "      <td>2.500000</td>\n",
              "      <td>16.53831</td>\n",
              "      <td>32.20</td>\n",
              "      <td>4.08000</td>\n",
              "      <td>35</td>\n",
              "      <td>31.250000</td>\n",
              "      <td>1</td>\n",
              "      <td>31.25</td>\n",
              "      <td>0.030</td>\n",
              "    </tr>\n",
              "    <tr>\n",
              "      <th>1</th>\n",
              "      <td>FOOD</td>\n",
              "      <td>JUICES &amp; NATURAL BEVERAGES</td>\n",
              "      <td>MEDICINE</td>\n",
              "      <td>04-04-2022</td>\n",
              "      <td>70853</td>\n",
              "      <td>GILOY GHAN VATI 60 PC (NEW)</td>\n",
              "      <td>10.0</td>\n",
              "      <td>8.928571</td>\n",
              "      <td>13.98176</td>\n",
              "      <td>90.00</td>\n",
              "      <td>9.85714</td>\n",
              "      <td>100</td>\n",
              "      <td>89.285714</td>\n",
              "      <td>1</td>\n",
              "      <td>89.29</td>\n",
              "      <td>0.060</td>\n",
              "    </tr>\n",
              "    <tr>\n",
              "      <th>2</th>\n",
              "      <td>FOOD</td>\n",
              "      <td>JUICES &amp; NATURAL BEVERAGES</td>\n",
              "      <td>SHARBAT THANDAI</td>\n",
              "      <td>04-04-2022</td>\n",
              "      <td>1095</td>\n",
              "      <td>GULAB SHARBAT 750 ML</td>\n",
              "      <td>8.0</td>\n",
              "      <td>6.779661</td>\n",
              "      <td>16.76816</td>\n",
              "      <td>92.00</td>\n",
              "      <td>11.19610</td>\n",
              "      <td>100</td>\n",
              "      <td>84.745763</td>\n",
              "      <td>1</td>\n",
              "      <td>84.75</td>\n",
              "      <td>1.130</td>\n",
              "    </tr>\n",
              "    <tr>\n",
              "      <th>3</th>\n",
              "      <td>FOOD</td>\n",
              "      <td>PHYSICAL OIL &amp; GHEE</td>\n",
              "      <td>GHEE</td>\n",
              "      <td>04-04-2022</td>\n",
              "      <td>1379</td>\n",
              "      <td>COWS GHEE 15 LTR</td>\n",
              "      <td>8.3</td>\n",
              "      <td>3855.053571</td>\n",
              "      <td>0.52727</td>\n",
              "      <td>47702.34</td>\n",
              "      <td>223.39500</td>\n",
              "      <td>8670</td>\n",
              "      <td>7741.071429</td>\n",
              "      <td>6</td>\n",
              "      <td>46446.43</td>\n",
              "      <td>86.880</td>\n",
              "    </tr>\n",
              "    <tr>\n",
              "      <th>4</th>\n",
              "      <td>FOOD</td>\n",
              "      <td>JUICES &amp; NATURAL BEVERAGES</td>\n",
              "      <td>MURRABBA &amp; CANDY</td>\n",
              "      <td>04-04-2022</td>\n",
              "      <td>1025</td>\n",
              "      <td>AMLA CHATPATA CANDY 500 G</td>\n",
              "      <td>10.0</td>\n",
              "      <td>325.714286</td>\n",
              "      <td>13.67105</td>\n",
              "      <td>3078.00</td>\n",
              "      <td>352.55857</td>\n",
              "      <td>180</td>\n",
              "      <td>171.428571</td>\n",
              "      <td>19</td>\n",
              "      <td>3257.14</td>\n",
              "      <td>11.381</td>\n",
              "    </tr>\n",
              "    <tr>\n",
              "      <th>5</th>\n",
              "      <td>AASTHA DIVISION</td>\n",
              "      <td>AASTHA DIVISION</td>\n",
              "      <td>AASTHA DHOOP</td>\n",
              "      <td>04-04-2022</td>\n",
              "      <td>70903</td>\n",
              "      <td>AASTHA SANDAL DHOOP -20 STICK</td>\n",
              "      <td>8.0</td>\n",
              "      <td>2.285714</td>\n",
              "      <td>23.23354</td>\n",
              "      <td>27.60</td>\n",
              "      <td>4.95571</td>\n",
              "      <td>30</td>\n",
              "      <td>28.571429</td>\n",
              "      <td>1</td>\n",
              "      <td>28.57</td>\n",
              "      <td>0.160</td>\n",
              "    </tr>\n",
              "    <tr>\n",
              "      <th>6</th>\n",
              "      <td>FOOD</td>\n",
              "      <td>JUICES &amp; NATURAL BEVERAGES</td>\n",
              "      <td>SHARBAT THANDAI</td>\n",
              "      <td>04-04-2022</td>\n",
              "      <td>1095</td>\n",
              "      <td>GULAB SHARBAT 750 ML</td>\n",
              "      <td>10.0</td>\n",
              "      <td>8.474576</td>\n",
              "      <td>14.22972</td>\n",
              "      <td>90.00</td>\n",
              "      <td>9.50119</td>\n",
              "      <td>100</td>\n",
              "      <td>84.745763</td>\n",
              "      <td>1</td>\n",
              "      <td>84.75</td>\n",
              "      <td>1.130</td>\n",
              "    </tr>\n",
              "    <tr>\n",
              "      <th>7</th>\n",
              "      <td>NON FOOD</td>\n",
              "      <td>NATURAL PERSONAL CARE</td>\n",
              "      <td>EYE DROP</td>\n",
              "      <td>04-04-2022</td>\n",
              "      <td>71076</td>\n",
              "      <td>SAUMYA EYE DROP 10 ML</td>\n",
              "      <td>10.0</td>\n",
              "      <td>3.125000</td>\n",
              "      <td>14.00486</td>\n",
              "      <td>31.50</td>\n",
              "      <td>3.45500</td>\n",
              "      <td>35</td>\n",
              "      <td>31.250000</td>\n",
              "      <td>1</td>\n",
              "      <td>31.25</td>\n",
              "      <td>0.030</td>\n",
              "    </tr>\n",
              "    <tr>\n",
              "      <th>8</th>\n",
              "      <td>FOOD</td>\n",
              "      <td>JUICES &amp; NATURAL BEVERAGES</td>\n",
              "      <td>SHARBAT THANDAI</td>\n",
              "      <td>04-04-2022</td>\n",
              "      <td>1095</td>\n",
              "      <td>GULAB SHARBAT 750 ML</td>\n",
              "      <td>10.0</td>\n",
              "      <td>203.389830</td>\n",
              "      <td>14.22972</td>\n",
              "      <td>2160.00</td>\n",
              "      <td>228.02847</td>\n",
              "      <td>100</td>\n",
              "      <td>84.745763</td>\n",
              "      <td>24</td>\n",
              "      <td>2033.90</td>\n",
              "      <td>27.120</td>\n",
              "    </tr>\n",
              "    <tr>\n",
              "      <th>9</th>\n",
              "      <td>NON FOOD</td>\n",
              "      <td>NATURAL PERSONAL CARE</td>\n",
              "      <td>EYE DROP</td>\n",
              "      <td>04-04-2022</td>\n",
              "      <td>70795</td>\n",
              "      <td>DRISHTI EYE DROP 10 ML (NEW)</td>\n",
              "      <td>5.0</td>\n",
              "      <td>0.892857</td>\n",
              "      <td>20.31408</td>\n",
              "      <td>19.00</td>\n",
              "      <td>2.86429</td>\n",
              "      <td>20</td>\n",
              "      <td>17.857143</td>\n",
              "      <td>1</td>\n",
              "      <td>17.86</td>\n",
              "      <td>0.030</td>\n",
              "    </tr>\n",
              "  </tbody>\n",
              "</table>\n",
              "</div>\n",
              "      <button class=\"colab-df-convert\" onclick=\"convertToInteractive('df-b9f643c1-5766-4ad8-a6d4-bd3224a38714')\"\n",
              "              title=\"Convert this dataframe to an interactive table.\"\n",
              "              style=\"display:none;\">\n",
              "\n",
              "  <svg xmlns=\"http://www.w3.org/2000/svg\" height=\"24px\"viewBox=\"0 0 24 24\"\n",
              "       width=\"24px\">\n",
              "    <path d=\"M0 0h24v24H0V0z\" fill=\"none\"/>\n",
              "    <path d=\"M18.56 5.44l.94 2.06.94-2.06 2.06-.94-2.06-.94-.94-2.06-.94 2.06-2.06.94zm-11 1L8.5 8.5l.94-2.06 2.06-.94-2.06-.94L8.5 2.5l-.94 2.06-2.06.94zm10 10l.94 2.06.94-2.06 2.06-.94-2.06-.94-.94-2.06-.94 2.06-2.06.94z\"/><path d=\"M17.41 7.96l-1.37-1.37c-.4-.4-.92-.59-1.43-.59-.52 0-1.04.2-1.43.59L10.3 9.45l-7.72 7.72c-.78.78-.78 2.05 0 2.83L4 21.41c.39.39.9.59 1.41.59.51 0 1.02-.2 1.41-.59l7.78-7.78 2.81-2.81c.8-.78.8-2.07 0-2.86zM5.41 20L4 18.59l7.72-7.72 1.47 1.35L5.41 20z\"/>\n",
              "  </svg>\n",
              "      </button>\n",
              "\n",
              "\n",
              "\n",
              "    <div id=\"df-d307adf8-8894-4b64-849a-278569c38605\">\n",
              "      <button class=\"colab-df-quickchart\" onclick=\"quickchart('df-d307adf8-8894-4b64-849a-278569c38605')\"\n",
              "              title=\"Suggest charts.\"\n",
              "              style=\"display:none;\">\n",
              "\n",
              "<svg xmlns=\"http://www.w3.org/2000/svg\" height=\"24px\"viewBox=\"0 0 24 24\"\n",
              "     width=\"24px\">\n",
              "    <g>\n",
              "        <path d=\"M19 3H5c-1.1 0-2 .9-2 2v14c0 1.1.9 2 2 2h14c1.1 0 2-.9 2-2V5c0-1.1-.9-2-2-2zM9 17H7v-7h2v7zm4 0h-2V7h2v10zm4 0h-2v-4h2v4z\"/>\n",
              "    </g>\n",
              "</svg>\n",
              "      </button>\n",
              "    </div>\n",
              "\n",
              "<style>\n",
              "  .colab-df-quickchart {\n",
              "    background-color: #E8F0FE;\n",
              "    border: none;\n",
              "    border-radius: 50%;\n",
              "    cursor: pointer;\n",
              "    display: none;\n",
              "    fill: #1967D2;\n",
              "    height: 32px;\n",
              "    padding: 0 0 0 0;\n",
              "    width: 32px;\n",
              "  }\n",
              "\n",
              "  .colab-df-quickchart:hover {\n",
              "    background-color: #E2EBFA;\n",
              "    box-shadow: 0px 1px 2px rgba(60, 64, 67, 0.3), 0px 1px 3px 1px rgba(60, 64, 67, 0.15);\n",
              "    fill: #174EA6;\n",
              "  }\n",
              "\n",
              "  [theme=dark] .colab-df-quickchart {\n",
              "    background-color: #3B4455;\n",
              "    fill: #D2E3FC;\n",
              "  }\n",
              "\n",
              "  [theme=dark] .colab-df-quickchart:hover {\n",
              "    background-color: #434B5C;\n",
              "    box-shadow: 0px 1px 3px 1px rgba(0, 0, 0, 0.15);\n",
              "    filter: drop-shadow(0px 1px 2px rgba(0, 0, 0, 0.3));\n",
              "    fill: #FFFFFF;\n",
              "  }\n",
              "</style>\n",
              "\n",
              "    <script>\n",
              "      async function quickchart(key) {\n",
              "        const containerElement = document.querySelector('#' + key);\n",
              "        const charts = await google.colab.kernel.invokeFunction(\n",
              "            'suggestCharts', [key], {});\n",
              "      }\n",
              "    </script>\n",
              "\n",
              "      <script>\n",
              "\n",
              "function displayQuickchartButton(domScope) {\n",
              "  let quickchartButtonEl =\n",
              "    domScope.querySelector('#df-d307adf8-8894-4b64-849a-278569c38605 button.colab-df-quickchart');\n",
              "  quickchartButtonEl.style.display =\n",
              "    google.colab.kernel.accessAllowed ? 'block' : 'none';\n",
              "}\n",
              "\n",
              "        displayQuickchartButton(document);\n",
              "      </script>\n",
              "      <style>\n",
              "    .colab-df-container {\n",
              "      display:flex;\n",
              "      flex-wrap:wrap;\n",
              "      gap: 12px;\n",
              "    }\n",
              "\n",
              "    .colab-df-convert {\n",
              "      background-color: #E8F0FE;\n",
              "      border: none;\n",
              "      border-radius: 50%;\n",
              "      cursor: pointer;\n",
              "      display: none;\n",
              "      fill: #1967D2;\n",
              "      height: 32px;\n",
              "      padding: 0 0 0 0;\n",
              "      width: 32px;\n",
              "    }\n",
              "\n",
              "    .colab-df-convert:hover {\n",
              "      background-color: #E2EBFA;\n",
              "      box-shadow: 0px 1px 2px rgba(60, 64, 67, 0.3), 0px 1px 3px 1px rgba(60, 64, 67, 0.15);\n",
              "      fill: #174EA6;\n",
              "    }\n",
              "\n",
              "    [theme=dark] .colab-df-convert {\n",
              "      background-color: #3B4455;\n",
              "      fill: #D2E3FC;\n",
              "    }\n",
              "\n",
              "    [theme=dark] .colab-df-convert:hover {\n",
              "      background-color: #434B5C;\n",
              "      box-shadow: 0px 1px 3px 1px rgba(0, 0, 0, 0.15);\n",
              "      filter: drop-shadow(0px 1px 2px rgba(0, 0, 0, 0.3));\n",
              "      fill: #FFFFFF;\n",
              "    }\n",
              "  </style>\n",
              "\n",
              "      <script>\n",
              "        const buttonEl =\n",
              "          document.querySelector('#df-b9f643c1-5766-4ad8-a6d4-bd3224a38714 button.colab-df-convert');\n",
              "        buttonEl.style.display =\n",
              "          google.colab.kernel.accessAllowed ? 'block' : 'none';\n",
              "\n",
              "        async function convertToInteractive(key) {\n",
              "          const element = document.querySelector('#df-b9f643c1-5766-4ad8-a6d4-bd3224a38714');\n",
              "          const dataTable =\n",
              "            await google.colab.kernel.invokeFunction('convertToInteractive',\n",
              "                                                     [key], {});\n",
              "          if (!dataTable) return;\n",
              "\n",
              "          const docLinkHtml = 'Like what you see? Visit the ' +\n",
              "            '<a target=\"_blank\" href=https://colab.research.google.com/notebooks/data_table.ipynb>data table notebook</a>'\n",
              "            + ' to learn more about interactive tables.';\n",
              "          element.innerHTML = '';\n",
              "          dataTable['output_type'] = 'display_data';\n",
              "          await google.colab.output.renderOutput(dataTable, element);\n",
              "          const docLink = document.createElement('div');\n",
              "          docLink.innerHTML = docLinkHtml;\n",
              "          element.appendChild(docLink);\n",
              "        }\n",
              "      </script>\n",
              "    </div>\n",
              "  </div>\n"
            ]
          },
          "metadata": {},
          "execution_count": 16
        }
      ]
    },
    {
      "cell_type": "markdown",
      "metadata": {
        "id": "xTN9xWEnHhhQ"
      },
      "source": [
        "Label Encoding"
      ]
    },
    {
      "cell_type": "code",
      "metadata": {
        "id": "SxHOpkH0Hc75"
      },
      "source": [
        "encoder = LabelEncoder()\n"
      ],
      "execution_count": 17,
      "outputs": []
    },
    {
      "cell_type": "code",
      "metadata": {
        "id": "qAwLCxCWHsl_"
      },
      "source": [
        "data['Category'] = encoder.fit_transform(data['Category'])\n",
        "\n",
        "data['Sub category'] = encoder.fit_transform(data['Sub category'])\n",
        "\n",
        "data['PRODUCT BRANDS'] = encoder.fit_transform(data['PRODUCT BRANDS'])\n",
        "\n",
        "data['Item Name'] = encoder.fit_transform(data['Item Name'])\n",
        "\n",
        "data['Order Date'] = encoder.fit_transform(data['Order Date'])\n"
      ],
      "execution_count": 18,
      "outputs": []
    },
    {
      "cell_type": "code",
      "metadata": {
        "colab": {
          "base_uri": "https://localhost:8080/",
          "height": 305
        },
        "id": "SzL_IgO1IVUv",
        "outputId": "3d4686bf-e9a1-4560-b915-95e3c6edb23c"
      },
      "source": [
        "data.head()"
      ],
      "execution_count": 19,
      "outputs": [
        {
          "output_type": "execute_result",
          "data": {
            "text/plain": [
              "   Category  Sub category  PRODUCT BRANDS  Order Date  Item Code  Item Name  \\\n",
              "0         4            13              36          29      71076        605   \n",
              "1         2             9              66          29      70853        352   \n",
              "2         2             9              87          29       1095        362   \n",
              "3         2            14              40          29       1379        134   \n",
              "4         2             9              68          29       1025         60   \n",
              "\n",
              "   Item Disc %  Item disc amount  Profit %  Item Net Amount     profit   MRP  \\\n",
              "0          8.0          2.500000  16.53831            32.20    4.08000    35   \n",
              "1         10.0          8.928571  13.98176            90.00    9.85714   100   \n",
              "2          8.0          6.779661  16.76816            92.00   11.19610   100   \n",
              "3          8.3       3855.053571   0.52727         47702.34  223.39500  8670   \n",
              "4         10.0        325.714286  13.67105          3078.00  352.55857   180   \n",
              "\n",
              "      Net cost  quantity     Sales  weight  \n",
              "0    31.250000         1     31.25   0.030  \n",
              "1    89.285714         1     89.29   0.060  \n",
              "2    84.745763         1     84.75   1.130  \n",
              "3  7741.071429         6  46446.43  86.880  \n",
              "4   171.428571        19   3257.14  11.381  "
            ],
            "text/html": [
              "\n",
              "\n",
              "  <div id=\"df-38beee1d-4242-4c38-b44a-5e6067bd5d7e\">\n",
              "    <div class=\"colab-df-container\">\n",
              "      <div>\n",
              "<style scoped>\n",
              "    .dataframe tbody tr th:only-of-type {\n",
              "        vertical-align: middle;\n",
              "    }\n",
              "\n",
              "    .dataframe tbody tr th {\n",
              "        vertical-align: top;\n",
              "    }\n",
              "\n",
              "    .dataframe thead th {\n",
              "        text-align: right;\n",
              "    }\n",
              "</style>\n",
              "<table border=\"1\" class=\"dataframe\">\n",
              "  <thead>\n",
              "    <tr style=\"text-align: right;\">\n",
              "      <th></th>\n",
              "      <th>Category</th>\n",
              "      <th>Sub category</th>\n",
              "      <th>PRODUCT BRANDS</th>\n",
              "      <th>Order Date</th>\n",
              "      <th>Item Code</th>\n",
              "      <th>Item Name</th>\n",
              "      <th>Item Disc %</th>\n",
              "      <th>Item disc amount</th>\n",
              "      <th>Profit %</th>\n",
              "      <th>Item Net Amount</th>\n",
              "      <th>profit</th>\n",
              "      <th>MRP</th>\n",
              "      <th>Net cost</th>\n",
              "      <th>quantity</th>\n",
              "      <th>Sales</th>\n",
              "      <th>weight</th>\n",
              "    </tr>\n",
              "  </thead>\n",
              "  <tbody>\n",
              "    <tr>\n",
              "      <th>0</th>\n",
              "      <td>4</td>\n",
              "      <td>13</td>\n",
              "      <td>36</td>\n",
              "      <td>29</td>\n",
              "      <td>71076</td>\n",
              "      <td>605</td>\n",
              "      <td>8.0</td>\n",
              "      <td>2.500000</td>\n",
              "      <td>16.53831</td>\n",
              "      <td>32.20</td>\n",
              "      <td>4.08000</td>\n",
              "      <td>35</td>\n",
              "      <td>31.250000</td>\n",
              "      <td>1</td>\n",
              "      <td>31.25</td>\n",
              "      <td>0.030</td>\n",
              "    </tr>\n",
              "    <tr>\n",
              "      <th>1</th>\n",
              "      <td>2</td>\n",
              "      <td>9</td>\n",
              "      <td>66</td>\n",
              "      <td>29</td>\n",
              "      <td>70853</td>\n",
              "      <td>352</td>\n",
              "      <td>10.0</td>\n",
              "      <td>8.928571</td>\n",
              "      <td>13.98176</td>\n",
              "      <td>90.00</td>\n",
              "      <td>9.85714</td>\n",
              "      <td>100</td>\n",
              "      <td>89.285714</td>\n",
              "      <td>1</td>\n",
              "      <td>89.29</td>\n",
              "      <td>0.060</td>\n",
              "    </tr>\n",
              "    <tr>\n",
              "      <th>2</th>\n",
              "      <td>2</td>\n",
              "      <td>9</td>\n",
              "      <td>87</td>\n",
              "      <td>29</td>\n",
              "      <td>1095</td>\n",
              "      <td>362</td>\n",
              "      <td>8.0</td>\n",
              "      <td>6.779661</td>\n",
              "      <td>16.76816</td>\n",
              "      <td>92.00</td>\n",
              "      <td>11.19610</td>\n",
              "      <td>100</td>\n",
              "      <td>84.745763</td>\n",
              "      <td>1</td>\n",
              "      <td>84.75</td>\n",
              "      <td>1.130</td>\n",
              "    </tr>\n",
              "    <tr>\n",
              "      <th>3</th>\n",
              "      <td>2</td>\n",
              "      <td>14</td>\n",
              "      <td>40</td>\n",
              "      <td>29</td>\n",
              "      <td>1379</td>\n",
              "      <td>134</td>\n",
              "      <td>8.3</td>\n",
              "      <td>3855.053571</td>\n",
              "      <td>0.52727</td>\n",
              "      <td>47702.34</td>\n",
              "      <td>223.39500</td>\n",
              "      <td>8670</td>\n",
              "      <td>7741.071429</td>\n",
              "      <td>6</td>\n",
              "      <td>46446.43</td>\n",
              "      <td>86.880</td>\n",
              "    </tr>\n",
              "    <tr>\n",
              "      <th>4</th>\n",
              "      <td>2</td>\n",
              "      <td>9</td>\n",
              "      <td>68</td>\n",
              "      <td>29</td>\n",
              "      <td>1025</td>\n",
              "      <td>60</td>\n",
              "      <td>10.0</td>\n",
              "      <td>325.714286</td>\n",
              "      <td>13.67105</td>\n",
              "      <td>3078.00</td>\n",
              "      <td>352.55857</td>\n",
              "      <td>180</td>\n",
              "      <td>171.428571</td>\n",
              "      <td>19</td>\n",
              "      <td>3257.14</td>\n",
              "      <td>11.381</td>\n",
              "    </tr>\n",
              "  </tbody>\n",
              "</table>\n",
              "</div>\n",
              "      <button class=\"colab-df-convert\" onclick=\"convertToInteractive('df-38beee1d-4242-4c38-b44a-5e6067bd5d7e')\"\n",
              "              title=\"Convert this dataframe to an interactive table.\"\n",
              "              style=\"display:none;\">\n",
              "\n",
              "  <svg xmlns=\"http://www.w3.org/2000/svg\" height=\"24px\"viewBox=\"0 0 24 24\"\n",
              "       width=\"24px\">\n",
              "    <path d=\"M0 0h24v24H0V0z\" fill=\"none\"/>\n",
              "    <path d=\"M18.56 5.44l.94 2.06.94-2.06 2.06-.94-2.06-.94-.94-2.06-.94 2.06-2.06.94zm-11 1L8.5 8.5l.94-2.06 2.06-.94-2.06-.94L8.5 2.5l-.94 2.06-2.06.94zm10 10l.94 2.06.94-2.06 2.06-.94-2.06-.94-.94-2.06-.94 2.06-2.06.94z\"/><path d=\"M17.41 7.96l-1.37-1.37c-.4-.4-.92-.59-1.43-.59-.52 0-1.04.2-1.43.59L10.3 9.45l-7.72 7.72c-.78.78-.78 2.05 0 2.83L4 21.41c.39.39.9.59 1.41.59.51 0 1.02-.2 1.41-.59l7.78-7.78 2.81-2.81c.8-.78.8-2.07 0-2.86zM5.41 20L4 18.59l7.72-7.72 1.47 1.35L5.41 20z\"/>\n",
              "  </svg>\n",
              "      </button>\n",
              "\n",
              "\n",
              "\n",
              "    <div id=\"df-8784ca59-b854-4690-b00f-3f722cb25c11\">\n",
              "      <button class=\"colab-df-quickchart\" onclick=\"quickchart('df-8784ca59-b854-4690-b00f-3f722cb25c11')\"\n",
              "              title=\"Suggest charts.\"\n",
              "              style=\"display:none;\">\n",
              "\n",
              "<svg xmlns=\"http://www.w3.org/2000/svg\" height=\"24px\"viewBox=\"0 0 24 24\"\n",
              "     width=\"24px\">\n",
              "    <g>\n",
              "        <path d=\"M19 3H5c-1.1 0-2 .9-2 2v14c0 1.1.9 2 2 2h14c1.1 0 2-.9 2-2V5c0-1.1-.9-2-2-2zM9 17H7v-7h2v7zm4 0h-2V7h2v10zm4 0h-2v-4h2v4z\"/>\n",
              "    </g>\n",
              "</svg>\n",
              "      </button>\n",
              "    </div>\n",
              "\n",
              "<style>\n",
              "  .colab-df-quickchart {\n",
              "    background-color: #E8F0FE;\n",
              "    border: none;\n",
              "    border-radius: 50%;\n",
              "    cursor: pointer;\n",
              "    display: none;\n",
              "    fill: #1967D2;\n",
              "    height: 32px;\n",
              "    padding: 0 0 0 0;\n",
              "    width: 32px;\n",
              "  }\n",
              "\n",
              "  .colab-df-quickchart:hover {\n",
              "    background-color: #E2EBFA;\n",
              "    box-shadow: 0px 1px 2px rgba(60, 64, 67, 0.3), 0px 1px 3px 1px rgba(60, 64, 67, 0.15);\n",
              "    fill: #174EA6;\n",
              "  }\n",
              "\n",
              "  [theme=dark] .colab-df-quickchart {\n",
              "    background-color: #3B4455;\n",
              "    fill: #D2E3FC;\n",
              "  }\n",
              "\n",
              "  [theme=dark] .colab-df-quickchart:hover {\n",
              "    background-color: #434B5C;\n",
              "    box-shadow: 0px 1px 3px 1px rgba(0, 0, 0, 0.15);\n",
              "    filter: drop-shadow(0px 1px 2px rgba(0, 0, 0, 0.3));\n",
              "    fill: #FFFFFF;\n",
              "  }\n",
              "</style>\n",
              "\n",
              "    <script>\n",
              "      async function quickchart(key) {\n",
              "        const containerElement = document.querySelector('#' + key);\n",
              "        const charts = await google.colab.kernel.invokeFunction(\n",
              "            'suggestCharts', [key], {});\n",
              "      }\n",
              "    </script>\n",
              "\n",
              "      <script>\n",
              "\n",
              "function displayQuickchartButton(domScope) {\n",
              "  let quickchartButtonEl =\n",
              "    domScope.querySelector('#df-8784ca59-b854-4690-b00f-3f722cb25c11 button.colab-df-quickchart');\n",
              "  quickchartButtonEl.style.display =\n",
              "    google.colab.kernel.accessAllowed ? 'block' : 'none';\n",
              "}\n",
              "\n",
              "        displayQuickchartButton(document);\n",
              "      </script>\n",
              "      <style>\n",
              "    .colab-df-container {\n",
              "      display:flex;\n",
              "      flex-wrap:wrap;\n",
              "      gap: 12px;\n",
              "    }\n",
              "\n",
              "    .colab-df-convert {\n",
              "      background-color: #E8F0FE;\n",
              "      border: none;\n",
              "      border-radius: 50%;\n",
              "      cursor: pointer;\n",
              "      display: none;\n",
              "      fill: #1967D2;\n",
              "      height: 32px;\n",
              "      padding: 0 0 0 0;\n",
              "      width: 32px;\n",
              "    }\n",
              "\n",
              "    .colab-df-convert:hover {\n",
              "      background-color: #E2EBFA;\n",
              "      box-shadow: 0px 1px 2px rgba(60, 64, 67, 0.3), 0px 1px 3px 1px rgba(60, 64, 67, 0.15);\n",
              "      fill: #174EA6;\n",
              "    }\n",
              "\n",
              "    [theme=dark] .colab-df-convert {\n",
              "      background-color: #3B4455;\n",
              "      fill: #D2E3FC;\n",
              "    }\n",
              "\n",
              "    [theme=dark] .colab-df-convert:hover {\n",
              "      background-color: #434B5C;\n",
              "      box-shadow: 0px 1px 3px 1px rgba(0, 0, 0, 0.15);\n",
              "      filter: drop-shadow(0px 1px 2px rgba(0, 0, 0, 0.3));\n",
              "      fill: #FFFFFF;\n",
              "    }\n",
              "  </style>\n",
              "\n",
              "      <script>\n",
              "        const buttonEl =\n",
              "          document.querySelector('#df-38beee1d-4242-4c38-b44a-5e6067bd5d7e button.colab-df-convert');\n",
              "        buttonEl.style.display =\n",
              "          google.colab.kernel.accessAllowed ? 'block' : 'none';\n",
              "\n",
              "        async function convertToInteractive(key) {\n",
              "          const element = document.querySelector('#df-38beee1d-4242-4c38-b44a-5e6067bd5d7e');\n",
              "          const dataTable =\n",
              "            await google.colab.kernel.invokeFunction('convertToInteractive',\n",
              "                                                     [key], {});\n",
              "          if (!dataTable) return;\n",
              "\n",
              "          const docLinkHtml = 'Like what you see? Visit the ' +\n",
              "            '<a target=\"_blank\" href=https://colab.research.google.com/notebooks/data_table.ipynb>data table notebook</a>'\n",
              "            + ' to learn more about interactive tables.';\n",
              "          element.innerHTML = '';\n",
              "          dataTable['output_type'] = 'display_data';\n",
              "          await google.colab.output.renderOutput(dataTable, element);\n",
              "          const docLink = document.createElement('div');\n",
              "          docLink.innerHTML = docLinkHtml;\n",
              "          element.appendChild(docLink);\n",
              "        }\n",
              "      </script>\n",
              "    </div>\n",
              "  </div>\n"
            ]
          },
          "metadata": {},
          "execution_count": 19
        }
      ]
    },
    {
      "cell_type": "markdown",
      "metadata": {
        "id": "jr-0iqKOIdUD"
      },
      "source": [
        "Splitting features and Target"
      ]
    },
    {
      "cell_type": "code",
      "metadata": {
        "id": "uwe-H2o2IXzJ"
      },
      "source": [
        "X = data.drop(columns='Sales', axis=1)\n",
        "Y = data['Sales']"
      ],
      "execution_count": 20,
      "outputs": []
    },
    {
      "cell_type": "code",
      "metadata": {
        "colab": {
          "base_uri": "https://localhost:8080/"
        },
        "id": "TKDLyvImIuTo",
        "outputId": "3125eccd-9efd-4751-ccbc-f503ca0696b5"
      },
      "source": [
        "print(X)"
      ],
      "execution_count": 21,
      "outputs": [
        {
          "output_type": "stream",
          "name": "stdout",
          "text": [
            "       Category  Sub category  PRODUCT BRANDS  Order Date  Item Code  \\\n",
            "0             4            13              36          29      71076   \n",
            "1             2             9              66          29      70853   \n",
            "2             2             9              87          29       1095   \n",
            "3             2            14              40          29       1379   \n",
            "4             2             9              68          29       1025   \n",
            "...         ...           ...             ...         ...        ...   \n",
            "15851         2             9              65         336  180002669   \n",
            "15852         6            10              33         336      83550   \n",
            "15853         2             9              66         336      81435   \n",
            "15854         6            10              13         336      81516   \n",
            "15855         4            13              57         336      71311   \n",
            "\n",
            "       Item Name  Item Disc %  Item disc amount  Profit %  Item Net Amount  \\\n",
            "0            605          8.0          2.500000  16.53831            32.20   \n",
            "1            352         10.0          8.928571  13.98176            90.00   \n",
            "2            362          8.0          6.779661  16.76816            92.00   \n",
            "3            134          8.3       3855.053571   0.52727         47702.34   \n",
            "4             60         10.0        325.714286  13.67105          3078.00   \n",
            "...          ...          ...               ...       ...              ...   \n",
            "15851        427          7.0          4.687500  17.77002            69.75   \n",
            "15852        309         10.1        227.250000   6.98022          2265.48   \n",
            "15853        197         10.5         24.600000   7.57527           220.17   \n",
            "15854        511         10.5        130.000000   7.39334          1163.50   \n",
            "15855        441          0.0          0.000000  43.63689             1.00   \n",
            "\n",
            "          profit   MRP     Net cost  quantity  weight  \n",
            "0        4.08000    35    31.250000         1   0.030  \n",
            "1        9.85714   100    89.285714         1   0.060  \n",
            "2       11.19610   100    84.745763         1   1.130  \n",
            "3      223.39500  8670  7741.071429         6  86.880  \n",
            "4      352.55857   180   171.428571        19  11.381  \n",
            "...          ...   ...          ...       ...     ...  \n",
            "15851    9.39679    75    66.964286         1   0.629  \n",
            "15852  131.98000   360   321.428571         7   0.322  \n",
            "15853   14.76571   123   117.142857         2   0.920  \n",
            "15854   76.28524   100    95.238095        13   0.039  \n",
            "15855    0.25746     1     0.847458         1   0.007  \n",
            "\n",
            "[15856 rows x 15 columns]\n"
          ]
        }
      ]
    },
    {
      "cell_type": "code",
      "metadata": {
        "colab": {
          "base_uri": "https://localhost:8080/"
        },
        "id": "WgbKCgaNIvd9",
        "outputId": "19e521e6-d8ce-458e-e93d-3c11859906da"
      },
      "source": [
        "print(Y)"
      ],
      "execution_count": 22,
      "outputs": [
        {
          "output_type": "stream",
          "name": "stdout",
          "text": [
            "0           31.25\n",
            "1           89.29\n",
            "2           84.75\n",
            "3        46446.43\n",
            "4         3257.14\n",
            "           ...   \n",
            "15851       66.96\n",
            "15852     2250.00\n",
            "15853      234.29\n",
            "15854     1238.10\n",
            "15855        0.85\n",
            "Name: Sales, Length: 15856, dtype: float64\n"
          ]
        }
      ]
    },
    {
      "cell_type": "markdown",
      "metadata": {
        "id": "quPO-6hlIz3Z"
      },
      "source": [
        "Splitting the data into Training data & Testing Data"
      ]
    },
    {
      "cell_type": "code",
      "metadata": {
        "id": "ahDPS_EYIxRX"
      },
      "source": [
        "X_train, X_test, Y_train, Y_test = train_test_split(X, Y, test_size=0.2, random_state=2)"
      ],
      "execution_count": 23,
      "outputs": []
    },
    {
      "cell_type": "code",
      "metadata": {
        "colab": {
          "base_uri": "https://localhost:8080/"
        },
        "id": "Re4BSHovJBB-",
        "outputId": "95ad9223-5940-452a-c225-a5e755eb88b3"
      },
      "source": [
        "print(X.shape, X_train.shape, X_test.shape)"
      ],
      "execution_count": 24,
      "outputs": [
        {
          "output_type": "stream",
          "name": "stdout",
          "text": [
            "(15856, 15) (12684, 15) (3172, 15)\n"
          ]
        }
      ]
    },
    {
      "cell_type": "markdown",
      "metadata": {
        "id": "xl3IeS5nJaW3"
      },
      "source": [
        "Machine Learning Model Training"
      ]
    },
    {
      "cell_type": "markdown",
      "metadata": {
        "id": "m0xSe9ZcJe75"
      },
      "source": [
        "XGBoost Regressor"
      ]
    },
    {
      "cell_type": "code",
      "metadata": {
        "id": "OM2K1_zxJVq7"
      },
      "source": [
        "regressor = XGBRegressor()"
      ],
      "execution_count": 25,
      "outputs": []
    },
    {
      "cell_type": "code",
      "metadata": {
        "colab": {
          "base_uri": "https://localhost:8080/",
          "height": 248
        },
        "id": "dKuVHDn2JmiW",
        "outputId": "fede8254-5ed2-4642-b32c-bbc10fc01568"
      },
      "source": [
        "regressor.fit(X_train, Y_train)"
      ],
      "execution_count": 26,
      "outputs": [
        {
          "output_type": "execute_result",
          "data": {
            "text/plain": [
              "XGBRegressor(base_score=None, booster=None, callbacks=None,\n",
              "             colsample_bylevel=None, colsample_bynode=None,\n",
              "             colsample_bytree=None, early_stopping_rounds=None,\n",
              "             enable_categorical=False, eval_metric=None, feature_types=None,\n",
              "             gamma=None, gpu_id=None, grow_policy=None, importance_type=None,\n",
              "             interaction_constraints=None, learning_rate=None, max_bin=None,\n",
              "             max_cat_threshold=None, max_cat_to_onehot=None,\n",
              "             max_delta_step=None, max_depth=None, max_leaves=None,\n",
              "             min_child_weight=None, missing=nan, monotone_constraints=None,\n",
              "             n_estimators=100, n_jobs=None, num_parallel_tree=None,\n",
              "             predictor=None, random_state=None, ...)"
            ],
            "text/html": [
              "<style>#sk-container-id-1 {color: black;background-color: white;}#sk-container-id-1 pre{padding: 0;}#sk-container-id-1 div.sk-toggleable {background-color: white;}#sk-container-id-1 label.sk-toggleable__label {cursor: pointer;display: block;width: 100%;margin-bottom: 0;padding: 0.3em;box-sizing: border-box;text-align: center;}#sk-container-id-1 label.sk-toggleable__label-arrow:before {content: \"▸\";float: left;margin-right: 0.25em;color: #696969;}#sk-container-id-1 label.sk-toggleable__label-arrow:hover:before {color: black;}#sk-container-id-1 div.sk-estimator:hover label.sk-toggleable__label-arrow:before {color: black;}#sk-container-id-1 div.sk-toggleable__content {max-height: 0;max-width: 0;overflow: hidden;text-align: left;background-color: #f0f8ff;}#sk-container-id-1 div.sk-toggleable__content pre {margin: 0.2em;color: black;border-radius: 0.25em;background-color: #f0f8ff;}#sk-container-id-1 input.sk-toggleable__control:checked~div.sk-toggleable__content {max-height: 200px;max-width: 100%;overflow: auto;}#sk-container-id-1 input.sk-toggleable__control:checked~label.sk-toggleable__label-arrow:before {content: \"▾\";}#sk-container-id-1 div.sk-estimator input.sk-toggleable__control:checked~label.sk-toggleable__label {background-color: #d4ebff;}#sk-container-id-1 div.sk-label input.sk-toggleable__control:checked~label.sk-toggleable__label {background-color: #d4ebff;}#sk-container-id-1 input.sk-hidden--visually {border: 0;clip: rect(1px 1px 1px 1px);clip: rect(1px, 1px, 1px, 1px);height: 1px;margin: -1px;overflow: hidden;padding: 0;position: absolute;width: 1px;}#sk-container-id-1 div.sk-estimator {font-family: monospace;background-color: #f0f8ff;border: 1px dotted black;border-radius: 0.25em;box-sizing: border-box;margin-bottom: 0.5em;}#sk-container-id-1 div.sk-estimator:hover {background-color: #d4ebff;}#sk-container-id-1 div.sk-parallel-item::after {content: \"\";width: 100%;border-bottom: 1px solid gray;flex-grow: 1;}#sk-container-id-1 div.sk-label:hover label.sk-toggleable__label {background-color: #d4ebff;}#sk-container-id-1 div.sk-serial::before {content: \"\";position: absolute;border-left: 1px solid gray;box-sizing: border-box;top: 0;bottom: 0;left: 50%;z-index: 0;}#sk-container-id-1 div.sk-serial {display: flex;flex-direction: column;align-items: center;background-color: white;padding-right: 0.2em;padding-left: 0.2em;position: relative;}#sk-container-id-1 div.sk-item {position: relative;z-index: 1;}#sk-container-id-1 div.sk-parallel {display: flex;align-items: stretch;justify-content: center;background-color: white;position: relative;}#sk-container-id-1 div.sk-item::before, #sk-container-id-1 div.sk-parallel-item::before {content: \"\";position: absolute;border-left: 1px solid gray;box-sizing: border-box;top: 0;bottom: 0;left: 50%;z-index: -1;}#sk-container-id-1 div.sk-parallel-item {display: flex;flex-direction: column;z-index: 1;position: relative;background-color: white;}#sk-container-id-1 div.sk-parallel-item:first-child::after {align-self: flex-end;width: 50%;}#sk-container-id-1 div.sk-parallel-item:last-child::after {align-self: flex-start;width: 50%;}#sk-container-id-1 div.sk-parallel-item:only-child::after {width: 0;}#sk-container-id-1 div.sk-dashed-wrapped {border: 1px dashed gray;margin: 0 0.4em 0.5em 0.4em;box-sizing: border-box;padding-bottom: 0.4em;background-color: white;}#sk-container-id-1 div.sk-label label {font-family: monospace;font-weight: bold;display: inline-block;line-height: 1.2em;}#sk-container-id-1 div.sk-label-container {text-align: center;}#sk-container-id-1 div.sk-container {/* jupyter's `normalize.less` sets `[hidden] { display: none; }` but bootstrap.min.css set `[hidden] { display: none !important; }` so we also need the `!important` here to be able to override the default hidden behavior on the sphinx rendered scikit-learn.org. See: https://github.com/scikit-learn/scikit-learn/issues/21755 */display: inline-block !important;position: relative;}#sk-container-id-1 div.sk-text-repr-fallback {display: none;}</style><div id=\"sk-container-id-1\" class=\"sk-top-container\"><div class=\"sk-text-repr-fallback\"><pre>XGBRegressor(base_score=None, booster=None, callbacks=None,\n",
              "             colsample_bylevel=None, colsample_bynode=None,\n",
              "             colsample_bytree=None, early_stopping_rounds=None,\n",
              "             enable_categorical=False, eval_metric=None, feature_types=None,\n",
              "             gamma=None, gpu_id=None, grow_policy=None, importance_type=None,\n",
              "             interaction_constraints=None, learning_rate=None, max_bin=None,\n",
              "             max_cat_threshold=None, max_cat_to_onehot=None,\n",
              "             max_delta_step=None, max_depth=None, max_leaves=None,\n",
              "             min_child_weight=None, missing=nan, monotone_constraints=None,\n",
              "             n_estimators=100, n_jobs=None, num_parallel_tree=None,\n",
              "             predictor=None, random_state=None, ...)</pre><b>In a Jupyter environment, please rerun this cell to show the HTML representation or trust the notebook. <br />On GitHub, the HTML representation is unable to render, please try loading this page with nbviewer.org.</b></div><div class=\"sk-container\" hidden><div class=\"sk-item\"><div class=\"sk-estimator sk-toggleable\"><input class=\"sk-toggleable__control sk-hidden--visually\" id=\"sk-estimator-id-1\" type=\"checkbox\" checked><label for=\"sk-estimator-id-1\" class=\"sk-toggleable__label sk-toggleable__label-arrow\">XGBRegressor</label><div class=\"sk-toggleable__content\"><pre>XGBRegressor(base_score=None, booster=None, callbacks=None,\n",
              "             colsample_bylevel=None, colsample_bynode=None,\n",
              "             colsample_bytree=None, early_stopping_rounds=None,\n",
              "             enable_categorical=False, eval_metric=None, feature_types=None,\n",
              "             gamma=None, gpu_id=None, grow_policy=None, importance_type=None,\n",
              "             interaction_constraints=None, learning_rate=None, max_bin=None,\n",
              "             max_cat_threshold=None, max_cat_to_onehot=None,\n",
              "             max_delta_step=None, max_depth=None, max_leaves=None,\n",
              "             min_child_weight=None, missing=nan, monotone_constraints=None,\n",
              "             n_estimators=100, n_jobs=None, num_parallel_tree=None,\n",
              "             predictor=None, random_state=None, ...)</pre></div></div></div></div></div>"
            ]
          },
          "metadata": {},
          "execution_count": 26
        }
      ]
    },
    {
      "cell_type": "markdown",
      "metadata": {
        "id": "GKD3Ip4KJ4lS"
      },
      "source": [
        "Evaluation"
      ]
    },
    {
      "cell_type": "code",
      "metadata": {
        "id": "IZIMhuxJJ2m0"
      },
      "source": [
        "# prediction on training data\n",
        "training_data_prediction = regressor.predict(X_train)"
      ],
      "execution_count": 27,
      "outputs": []
    },
    {
      "cell_type": "code",
      "metadata": {
        "id": "ebkXEag7KHsI"
      },
      "source": [
        "# R squared Value\n",
        "r2_train = metrics.r2_score(Y_train, training_data_prediction)"
      ],
      "execution_count": 28,
      "outputs": []
    },
    {
      "cell_type": "code",
      "metadata": {
        "colab": {
          "base_uri": "https://localhost:8080/"
        },
        "id": "VnIOWZEdKTet",
        "outputId": "119c53ed-4dfb-460d-a40e-b3460ce048d9"
      },
      "source": [
        "print('R Squared value = ', r2_train)"
      ],
      "execution_count": 29,
      "outputs": [
        {
          "output_type": "stream",
          "name": "stdout",
          "text": [
            "R Squared value =  0.9999780714114548\n"
          ]
        }
      ]
    },
    {
      "cell_type": "code",
      "metadata": {
        "id": "nLrj2_8SKsHM"
      },
      "source": [
        "# prediction on test data\n",
        "test_data_prediction = regressor.predict(X_test)"
      ],
      "execution_count": 30,
      "outputs": []
    },
    {
      "cell_type": "code",
      "metadata": {
        "id": "E_R3MjSOK2-x"
      },
      "source": [
        "# R squared Value\n",
        "r2_test = metrics.r2_score(Y_test, test_data_prediction)\n",
        "absolute_error = metrics.mean_absolute_error(Y_test, test_data_prediction)\n",
        "squared_error = metrics.mean_squared_error(Y_test, test_data_prediction)"
      ],
      "execution_count": 31,
      "outputs": []
    },
    {
      "cell_type": "code",
      "metadata": {
        "colab": {
          "base_uri": "https://localhost:8080/"
        },
        "id": "zQxuP6v1K-Hh",
        "outputId": "06fb0518-83bd-4c55-cdef-afdad24b56cd"
      },
      "source": [
        "print('R Squared value = ', r2_test)\n",
        "print('absolute error = ',absolute_error)\n",
        "print('squared error = ',squared_error)"
      ],
      "execution_count": 32,
      "outputs": [
        {
          "output_type": "stream",
          "name": "stdout",
          "text": [
            "R Squared value =  0.9994578497426356\n",
            "absolute error =  9.107576541990833\n",
            "squared error =  947.7248036349421\n"
          ]
        }
      ]
    },
    {
      "cell_type": "markdown",
      "source": [
        "# Save my model"
      ],
      "metadata": {
        "id": "sDWy0nA4489x"
      }
    },
    {
      "cell_type": "code",
      "source": [
        "import joblib"
      ],
      "metadata": {
        "id": "XWD-sY4d48CQ"
      },
      "execution_count": 33,
      "outputs": []
    },
    {
      "cell_type": "code",
      "source": [
        "joblib.dump(regressor,r'C:\\Users\\Tms\\Dropbox\\PC\\Desktop\\sales ml\\XG_boost_model.sav')"
      ],
      "metadata": {
        "colab": {
          "base_uri": "https://localhost:8080/"
        },
        "id": "Xc2xeSdU53dI",
        "outputId": "33fc0caa-b90e-4e7c-a875-c84e09fad8ff"
      },
      "execution_count": 34,
      "outputs": [
        {
          "output_type": "execute_result",
          "data": {
            "text/plain": [
              "['C:\\\\Users\\\\Tms\\\\Dropbox\\\\PC\\\\Desktop\\\\sales ml\\\\XG_boost_model.sav']"
            ]
          },
          "metadata": {},
          "execution_count": 34
        }
      ]
    },
    {
      "cell_type": "code",
      "source": [
        "model=joblib.load(r'C:\\Users\\Tms\\Dropbox\\PC\\Desktop\\sales ml\\XG_boost_model.sav')"
      ],
      "metadata": {
        "id": "cUo4mfup6-ZF"
      },
      "execution_count": 35,
      "outputs": []
    },
    {
      "cell_type": "code",
      "source": [
        "l=model.predict(X_test)"
      ],
      "metadata": {
        "id": "5YfjIaqU7LaP"
      },
      "execution_count": 36,
      "outputs": []
    },
    {
      "cell_type": "code",
      "source": [
        "from sklearn.metrics import r2_score"
      ],
      "metadata": {
        "id": "2slBPb3a-gaI"
      },
      "execution_count": 37,
      "outputs": []
    },
    {
      "cell_type": "code",
      "source": [
        "r2_score(Y_test, l)\n"
      ],
      "metadata": {
        "colab": {
          "base_uri": "https://localhost:8080/"
        },
        "id": "Vc6PPtD5-WB5",
        "outputId": "b1438afd-495a-4827-cec5-8b20c868f3b4"
      },
      "execution_count": 38,
      "outputs": [
        {
          "output_type": "execute_result",
          "data": {
            "text/plain": [
              "0.9994578497426356"
            ]
          },
          "metadata": {},
          "execution_count": 38
        }
      ]
    }
  ]
}